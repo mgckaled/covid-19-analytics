{
 "cells": [
  {
   "cell_type": "markdown",
   "metadata": {},
   "source": [
    "<h4> Dados obtidos no <a href = https://data.brasil.io/dataset/covid19/_meta/list.html> Brasil IO </a> </h4"
   ]
  },
  {
   "cell_type": "code",
   "execution_count": 1,
   "metadata": {},
   "outputs": [],
   "source": [
    "import requests\n",
    "import pandas as pd\n",
    "import numpy as np\n",
    "import matplotlib.pyplot as plt\n",
    "from IPython.display import clear_output\n",
    "import sys \n",
    "import time\n",
    "import qgrid"
   ]
  },
  {
   "cell_type": "code",
   "execution_count": 2,
   "metadata": {},
   "outputs": [
    {
     "name": "stdout",
     "output_type": "stream",
     "text": [
      "Download pronto.\n"
     ]
    }
   ],
   "source": [
    "# Fazer o dowload do dataset e salvar no caminho especificado.\n",
    "\n",
    "import requests\n",
    "\n",
    "download_url = \"https://data.brasil.io/dataset/covid19/caso.csv.gz\"\n",
    "target_csv_path = \"caso.csv.gz\"\n",
    "\n",
    "response = requests.get(download_url)\n",
    "response.raise_for_status()    # Check that the request was successful\n",
    "with open(target_csv_path, \"wb\") as f:\n",
    "    f.write(response.content)\n",
    "print(\"Download pronto.\")"
   ]
  },
  {
   "cell_type": "code",
   "execution_count": 3,
   "metadata": {},
   "outputs": [
    {
     "name": "stdout",
     "output_type": "stream",
     "text": [
      "<class 'pandas.core.frame.DataFrame'>\n",
      "RangeIndex: 235746 entries, 0 to 235745\n",
      "Data columns (total 12 columns):\n",
      " #   Column                          Non-Null Count   Dtype  \n",
      "---  ------                          --------------   -----  \n",
      " 0   date                            235746 non-null  object \n",
      " 1   state                           235746 non-null  object \n",
      " 2   city                            233116 non-null  object \n",
      " 3   place_type                      235746 non-null  object \n",
      " 4   confirmed                       235746 non-null  int64  \n",
      " 5   deaths                          235746 non-null  int64  \n",
      " 6   order_for_place                 235746 non-null  int64  \n",
      " 7   is_last                         235746 non-null  bool   \n",
      " 8   estimated_population_2019       234346 non-null  float64\n",
      " 9   city_ibge_code                  234346 non-null  float64\n",
      " 10  confirmed_per_100k_inhabitants  228744 non-null  float64\n",
      " 11  death_rate                      235746 non-null  float64\n",
      "dtypes: bool(1), float64(4), int64(3), object(4)\n",
      "memory usage: 20.0+ MB\n"
     ]
    }
   ],
   "source": [
    "# Trasformação do arquivo em dataframe.\n",
    "\n",
    "import pandas as pd\n",
    "\n",
    "\n",
    "df = pd.read_csv('caso.csv.gz', compression='gzip',error_bad_lines=False)\n",
    "df.info()\n"
   ]
  },
  {
   "cell_type": "code",
   "execution_count": 4,
   "metadata": {},
   "outputs": [
    {
     "data": {
      "application/vnd.jupyter.widget-view+json": {
       "model_id": "5155a4c9b6e242a49111e5d07b6c670a",
       "version_major": 2,
       "version_minor": 0
      },
      "text/plain": [
       "QgridWidget(grid_options={'fullWidthRows': True, 'syncColumnCellResize': True, 'forceFitColumns': True, 'defau…"
      ]
     },
     "metadata": {},
     "output_type": "display_data"
    }
   ],
   "source": [
    "# Execute os seguintes comandos \n",
    "\n",
    "## jupyter nbextension enable --py --sys-prefix qgrid\n",
    "## jupyter nbextension enable --py --sys-prefix widgetsnbextension\n",
    "\n",
    "qgrid.show_grid(df)"
   ]
  },
  {
   "cell_type": "code",
   "execution_count": 5,
   "metadata": {},
   "outputs": [
    {
     "name": "stdout",
     "output_type": "stream",
     "text": [
      "<class 'pandas.core.frame.DataFrame'>\n",
      "Int64Index: 24511 entries, 100464 to 124974\n",
      "Data columns (total 12 columns):\n",
      " #   Column                          Non-Null Count  Dtype  \n",
      "---  ------                          --------------  -----  \n",
      " 0   date                            24511 non-null  object \n",
      " 1   state                           24511 non-null  object \n",
      " 2   city                            24407 non-null  object \n",
      " 3   place_type                      24511 non-null  object \n",
      " 4   confirmed                       24511 non-null  int64  \n",
      " 5   deaths                          24511 non-null  int64  \n",
      " 6   order_for_place                 24511 non-null  int64  \n",
      " 7   is_last                         24511 non-null  bool   \n",
      " 8   estimated_population_2019       24420 non-null  float64\n",
      " 9   city_ibge_code                  24420 non-null  float64\n",
      " 10  confirmed_per_100k_inhabitants  23850 non-null  float64\n",
      " 11  death_rate                      24511 non-null  float64\n",
      "dtypes: bool(1), float64(4), int64(3), object(4)\n",
      "memory usage: 2.3+ MB\n"
     ]
    }
   ],
   "source": [
    "df_mg = df[df['state'] == 'MG']\n",
    "df_mg.info()"
   ]
  },
  {
   "cell_type": "code",
   "execution_count": 6,
   "metadata": {},
   "outputs": [
    {
     "data": {
      "text/html": [
       "<div>\n",
       "<style scoped>\n",
       "    .dataframe tbody tr th:only-of-type {\n",
       "        vertical-align: middle;\n",
       "    }\n",
       "\n",
       "    .dataframe tbody tr th {\n",
       "        vertical-align: top;\n",
       "    }\n",
       "\n",
       "    .dataframe thead th {\n",
       "        text-align: right;\n",
       "    }\n",
       "</style>\n",
       "<table border=\"1\" class=\"dataframe\">\n",
       "  <thead>\n",
       "    <tr style=\"text-align: right;\">\n",
       "      <th></th>\n",
       "      <th>date</th>\n",
       "      <th>state</th>\n",
       "      <th>city</th>\n",
       "      <th>place_type</th>\n",
       "      <th>confirmed</th>\n",
       "      <th>deaths</th>\n",
       "      <th>order_for_place</th>\n",
       "      <th>is_last</th>\n",
       "      <th>estimated_population_2019</th>\n",
       "      <th>city_ibge_code</th>\n",
       "      <th>confirmed_per_100k_inhabitants</th>\n",
       "      <th>death_rate</th>\n",
       "    </tr>\n",
       "  </thead>\n",
       "  <tbody>\n",
       "    <tr>\n",
       "      <th>112711</th>\n",
       "      <td>2020-06-20</td>\n",
       "      <td>MG</td>\n",
       "      <td>Juiz de Fora</td>\n",
       "      <td>city</td>\n",
       "      <td>1174</td>\n",
       "      <td>41</td>\n",
       "      <td>97</td>\n",
       "      <td>True</td>\n",
       "      <td>568873.0</td>\n",
       "      <td>3136702.0</td>\n",
       "      <td>206.37295</td>\n",
       "      <td>0.0349</td>\n",
       "    </tr>\n",
       "    <tr>\n",
       "      <th>112712</th>\n",
       "      <td>2020-06-19</td>\n",
       "      <td>MG</td>\n",
       "      <td>Juiz de Fora</td>\n",
       "      <td>city</td>\n",
       "      <td>955</td>\n",
       "      <td>39</td>\n",
       "      <td>96</td>\n",
       "      <td>False</td>\n",
       "      <td>568873.0</td>\n",
       "      <td>3136702.0</td>\n",
       "      <td>167.87578</td>\n",
       "      <td>0.0408</td>\n",
       "    </tr>\n",
       "    <tr>\n",
       "      <th>112713</th>\n",
       "      <td>2020-06-18</td>\n",
       "      <td>MG</td>\n",
       "      <td>Juiz de Fora</td>\n",
       "      <td>city</td>\n",
       "      <td>923</td>\n",
       "      <td>39</td>\n",
       "      <td>95</td>\n",
       "      <td>False</td>\n",
       "      <td>568873.0</td>\n",
       "      <td>3136702.0</td>\n",
       "      <td>162.25063</td>\n",
       "      <td>0.0423</td>\n",
       "    </tr>\n",
       "    <tr>\n",
       "      <th>112714</th>\n",
       "      <td>2020-06-17</td>\n",
       "      <td>MG</td>\n",
       "      <td>Juiz de Fora</td>\n",
       "      <td>city</td>\n",
       "      <td>915</td>\n",
       "      <td>38</td>\n",
       "      <td>94</td>\n",
       "      <td>False</td>\n",
       "      <td>568873.0</td>\n",
       "      <td>3136702.0</td>\n",
       "      <td>160.84434</td>\n",
       "      <td>0.0415</td>\n",
       "    </tr>\n",
       "    <tr>\n",
       "      <th>112715</th>\n",
       "      <td>2020-06-16</td>\n",
       "      <td>MG</td>\n",
       "      <td>Juiz de Fora</td>\n",
       "      <td>city</td>\n",
       "      <td>881</td>\n",
       "      <td>38</td>\n",
       "      <td>93</td>\n",
       "      <td>False</td>\n",
       "      <td>568873.0</td>\n",
       "      <td>3136702.0</td>\n",
       "      <td>154.86761</td>\n",
       "      <td>0.0431</td>\n",
       "    </tr>\n",
       "    <tr>\n",
       "      <th>...</th>\n",
       "      <td>...</td>\n",
       "      <td>...</td>\n",
       "      <td>...</td>\n",
       "      <td>...</td>\n",
       "      <td>...</td>\n",
       "      <td>...</td>\n",
       "      <td>...</td>\n",
       "      <td>...</td>\n",
       "      <td>...</td>\n",
       "      <td>...</td>\n",
       "      <td>...</td>\n",
       "      <td>...</td>\n",
       "    </tr>\n",
       "    <tr>\n",
       "      <th>112803</th>\n",
       "      <td>2020-03-19</td>\n",
       "      <td>MG</td>\n",
       "      <td>Juiz de Fora</td>\n",
       "      <td>city</td>\n",
       "      <td>2</td>\n",
       "      <td>0</td>\n",
       "      <td>5</td>\n",
       "      <td>False</td>\n",
       "      <td>568873.0</td>\n",
       "      <td>3136702.0</td>\n",
       "      <td>0.35157</td>\n",
       "      <td>0.0000</td>\n",
       "    </tr>\n",
       "    <tr>\n",
       "      <th>112804</th>\n",
       "      <td>2020-03-18</td>\n",
       "      <td>MG</td>\n",
       "      <td>Juiz de Fora</td>\n",
       "      <td>city</td>\n",
       "      <td>2</td>\n",
       "      <td>0</td>\n",
       "      <td>4</td>\n",
       "      <td>False</td>\n",
       "      <td>568873.0</td>\n",
       "      <td>3136702.0</td>\n",
       "      <td>0.35157</td>\n",
       "      <td>0.0000</td>\n",
       "    </tr>\n",
       "    <tr>\n",
       "      <th>112805</th>\n",
       "      <td>2020-03-17</td>\n",
       "      <td>MG</td>\n",
       "      <td>Juiz de Fora</td>\n",
       "      <td>city</td>\n",
       "      <td>2</td>\n",
       "      <td>0</td>\n",
       "      <td>3</td>\n",
       "      <td>False</td>\n",
       "      <td>568873.0</td>\n",
       "      <td>3136702.0</td>\n",
       "      <td>0.35157</td>\n",
       "      <td>0.0000</td>\n",
       "    </tr>\n",
       "    <tr>\n",
       "      <th>112806</th>\n",
       "      <td>2020-03-16</td>\n",
       "      <td>MG</td>\n",
       "      <td>Juiz de Fora</td>\n",
       "      <td>city</td>\n",
       "      <td>2</td>\n",
       "      <td>0</td>\n",
       "      <td>2</td>\n",
       "      <td>False</td>\n",
       "      <td>568873.0</td>\n",
       "      <td>3136702.0</td>\n",
       "      <td>0.35157</td>\n",
       "      <td>0.0000</td>\n",
       "    </tr>\n",
       "    <tr>\n",
       "      <th>112807</th>\n",
       "      <td>2020-03-14</td>\n",
       "      <td>MG</td>\n",
       "      <td>Juiz de Fora</td>\n",
       "      <td>city</td>\n",
       "      <td>1</td>\n",
       "      <td>0</td>\n",
       "      <td>1</td>\n",
       "      <td>False</td>\n",
       "      <td>568873.0</td>\n",
       "      <td>3136702.0</td>\n",
       "      <td>0.17579</td>\n",
       "      <td>0.0000</td>\n",
       "    </tr>\n",
       "  </tbody>\n",
       "</table>\n",
       "<p>97 rows × 12 columns</p>\n",
       "</div>"
      ],
      "text/plain": [
       "              date state          city place_type  confirmed  deaths  \\\n",
       "112711  2020-06-20    MG  Juiz de Fora       city       1174      41   \n",
       "112712  2020-06-19    MG  Juiz de Fora       city        955      39   \n",
       "112713  2020-06-18    MG  Juiz de Fora       city        923      39   \n",
       "112714  2020-06-17    MG  Juiz de Fora       city        915      38   \n",
       "112715  2020-06-16    MG  Juiz de Fora       city        881      38   \n",
       "...            ...   ...           ...        ...        ...     ...   \n",
       "112803  2020-03-19    MG  Juiz de Fora       city          2       0   \n",
       "112804  2020-03-18    MG  Juiz de Fora       city          2       0   \n",
       "112805  2020-03-17    MG  Juiz de Fora       city          2       0   \n",
       "112806  2020-03-16    MG  Juiz de Fora       city          2       0   \n",
       "112807  2020-03-14    MG  Juiz de Fora       city          1       0   \n",
       "\n",
       "        order_for_place  is_last  estimated_population_2019  city_ibge_code  \\\n",
       "112711               97     True                   568873.0       3136702.0   \n",
       "112712               96    False                   568873.0       3136702.0   \n",
       "112713               95    False                   568873.0       3136702.0   \n",
       "112714               94    False                   568873.0       3136702.0   \n",
       "112715               93    False                   568873.0       3136702.0   \n",
       "...                 ...      ...                        ...             ...   \n",
       "112803                5    False                   568873.0       3136702.0   \n",
       "112804                4    False                   568873.0       3136702.0   \n",
       "112805                3    False                   568873.0       3136702.0   \n",
       "112806                2    False                   568873.0       3136702.0   \n",
       "112807                1    False                   568873.0       3136702.0   \n",
       "\n",
       "        confirmed_per_100k_inhabitants  death_rate  \n",
       "112711                       206.37295      0.0349  \n",
       "112712                       167.87578      0.0408  \n",
       "112713                       162.25063      0.0423  \n",
       "112714                       160.84434      0.0415  \n",
       "112715                       154.86761      0.0431  \n",
       "...                                ...         ...  \n",
       "112803                         0.35157      0.0000  \n",
       "112804                         0.35157      0.0000  \n",
       "112805                         0.35157      0.0000  \n",
       "112806                         0.35157      0.0000  \n",
       "112807                         0.17579      0.0000  \n",
       "\n",
       "[97 rows x 12 columns]"
      ]
     },
     "execution_count": 6,
     "metadata": {},
     "output_type": "execute_result"
    }
   ],
   "source": [
    "pd.set_option(\"display.max.columns\",None)\n",
    "df_mg_jf= df[df['city'] == 'Juiz de Fora']\n",
    "df_mg_jf"
   ]
  },
  {
   "cell_type": "code",
   "execution_count": null,
   "metadata": {},
   "outputs": [],
   "source": []
  },
  {
   "cell_type": "code",
   "execution_count": 7,
   "metadata": {},
   "outputs": [
    {
     "name": "stdout",
     "output_type": "stream",
     "text": [
      "1174 41\n"
     ]
    }
   ],
   "source": [
    "# Filtros dos valores acumulados de casos confirmados e mortes: \n",
    " \n",
    "x = df_mg_jf[(df_mg_jf[\"is_last\"] == True)]\n",
    "total_confirmados = x.iloc[0].values[4]\n",
    "total_mortes = x.iloc[0].values[5]\n",
    "print(total_confirmados,total_mortes)"
   ]
  },
  {
   "cell_type": "code",
   "execution_count": 8,
   "metadata": {},
   "outputs": [],
   "source": [
    "df1 = df_mg_jf.sort_values(['confirmed','date'], ascending = [True,False])"
   ]
  },
  {
   "cell_type": "code",
   "execution_count": 9,
   "metadata": {},
   "outputs": [
    {
     "data": {
      "text/plain": [
       "<matplotlib.axes._subplots.AxesSubplot at 0x1989a77f3c8>"
      ]
     },
     "execution_count": 9,
     "metadata": {},
     "output_type": "execute_result"
    },
    {
     "data": {
      "image/png": "[encoded data removed]",
      "text/plain": [
       "<Figure size 1080x288 with 1 Axes>"
      ]
     },
     "metadata": {
      "needs_background": "light"
     },
     "output_type": "display_data"
    }
   ],
   "source": [
    "df1.plot(x = 'date', \n",
    "         y = 'confirmed', \n",
    "         grid=True,\n",
    "         kind = 'area',\n",
    "         title = 'Casos Confirmados em Juiz de Fora',\n",
    "         figsize = (15,4)  \n",
    "        )"
   ]
  },
  {
   "cell_type": "code",
   "execution_count": 10,
   "metadata": {},
   "outputs": [
    {
     "data": {
      "image/png": "[encoded data removed]",
      "text/plain": [
       "<Figure size 1008x360 with 1 Axes>"
      ]
     },
     "metadata": {
      "needs_background": "light"
     },
     "output_type": "display_data"
    }
   ],
   "source": [
    "import matplotlib.pyplot as plt\n",
    "from matplotlib.offsetbox import AnchoredText\n",
    "\n",
    "fig, ax = plt.subplots(figsize=(14,5))\n",
    "fig.subplots_adjust(top=0.85)\n",
    "fig.suptitle('bold figure suptitle', fontsize=14, fontweight='bold')\n",
    "\n",
    "ax.plot(df1['order_for_place'], df1['confirmed'],'b-', label=\"Casos Confirmados\")\n",
    "ax.plot(df1['order_for_place'], df1['deaths'],'r-',label=\"Mortes\",)\n",
    "ax.legend()\n",
    "ax.set(xlabel='$tempo$ $em$ $dias$',title='Evolução Covid-19 em Juiz de Fora')\n",
    "plt.grid(axis='y')\n",
    "\n",
    "ax.text(3,300, f'Casos confirmados\\nMortes', style='italic',\n",
    "        bbox={'facecolor': 'gray', 'alpha': 0.20, 'pad': 20})\n",
    "\n",
    "\n",
    "\n",
    "plt.show()"
   ]
  },
  {
   "cell_type": "code",
   "execution_count": 11,
   "metadata": {
    "scrolled": false
   },
   "outputs": [
    {
     "data": {
      "image/png": "[encoded data removed]",
      "text/plain": [
       "<Figure size 1080x360 with 1 Axes>"
      ]
     },
     "metadata": {
      "needs_background": "light"
     },
     "output_type": "display_data"
    }
   ],
   "source": [
    "import matplotlib.pyplot as plt\n",
    "from IPython.display import clear_output \n",
    "\n",
    "def main():\n",
    "    \n",
    "    # Mostra a lista dos códigos estaduais\n",
    "    for s in df['state'].unique():\n",
    "        print(s, end='/ ')\n",
    "    \n",
    "    # Input do estado e filtro do mesmo\n",
    "    estado = str(input('\\nDigite o estado conforme a lista acima: ')).upper()\n",
    "    df_estado = df[df['state'] == estado]\n",
    "    \n",
    "    # Mostra a lista do nome das cidades\n",
    "    for c in df_estado['city'].unique():\n",
    "        print(c)\n",
    "        \n",
    "    # Input da cidade e filtro da mesma \n",
    "    cidade = input('\\nDigite o nome da cidade a lista acima: ')\n",
    "    df_cidade = df_estado[df_estado['city'] == cidade]\n",
    "    \n",
    "    # Filtro de quantidades por estado e município \n",
    "    tot_conf_est = df_estado[(df_estado[\"place_type\"] == 'state')].iloc[0].values[4]\n",
    "    tot_morte_est = df_estado[(df_estado[\"place_type\"] == 'state')].iloc[0].values[5]\n",
    "    tot_conf_cid = df_cidade[(df_cidade[\"is_last\"] == True)].iloc[0].values[4]\n",
    "    tot_mortes_cid = df_cidade[(df_cidade[\"is_last\"] == True)].iloc[0].values[5]\n",
    "    conf_per_100mil = df_cidade[(df_cidade[\"is_last\"] == True)].iloc[0].values[10]\n",
    "    tx_morte = df_cidade[(df_cidade[\"is_last\"] == True)].iloc[0].values[11] * 100\n",
    "    \n",
    "    def grafico():\n",
    "        \n",
    "        fig, ax = plt.subplots(figsize=(15,5))\n",
    "        fig.subplots_adjust(top=0.80)\n",
    "        fig.suptitle(f'Evolução Covid-19 em {cidade} ({estado})',\n",
    "                     fontsize=14, fontweight='bold')\n",
    "        ax.plot(df_cidade['order_for_place'], df_cidade['confirmed'],'b-', label=\"Casos Confirmados\")\n",
    "        ax.plot(df_cidade['order_for_place'], df_cidade['deaths'],'r-',label=\"Mortes\",)\n",
    "        ax.legend()\n",
    "        ax.set(xlabel='$dias$ $após$ $o$ $primeiro$ $caso$',\n",
    "                title=f'Casos confirmados:{tot_conf_cid} ** Mortes:{tot_mortes_cid} ** Casos por 100k/Hab.: {conf_per_100mil:.2f} ** Taxa de Mortalidade:{tx_morte:.2f}%')\n",
    "        plt.grid(axis='y')\n",
    "        fig.savefig('evol_c19_cid.png')\n",
    "        plt.show()\n",
    "            \n",
    "       \n",
    "    # Deletar listas e perguntas do output do programa.\n",
    "    clear_output()\n",
    "    \n",
    "    grafico()\n",
    "    \n",
    "if __name__ == '__main__': main()\n"
   ]
  },
  {
   "cell_type": "code",
   "execution_count": 12,
   "metadata": {},
   "outputs": [
    {
     "name": "stdout",
     "output_type": "stream",
     "text": [
      "Arquivo criado com sucesso!\n",
      "Tempo de processamento: 1.67s\n"
     ]
    }
   ],
   "source": [
    "t1 = time.time()\n",
    "\n",
    "stdoutOrigin=sys.stdout \n",
    "sys.stdout = open(\"log_estado.txt\", \"w\")\n",
    "\n",
    "print('Dados Covid-19 por Estado:\\n ')\n",
    "\n",
    "for x in df.state.unique().astype(str):\n",
    "    a = df[(df[\"state\"] == x) & df['is_last'] == True].iloc[0].values[4]\n",
    "    b = df[(df[\"state\"] == x) & df['is_last'] == True].iloc[0].values[5]\n",
    "    c = df[(df[\"state\"] == x) & df['is_last'] == True].iloc[0].values[10]\n",
    "    d = df[(df[\"state\"] == x) & df['is_last'] == True].iloc[0].values[11] * 100\n",
    "    print(f'''********* {x} **********\n",
    "Casos Confirmados: {a:,}\n",
    "Mortes: {b:,}\n",
    "Casos por 100k/Hab.: {c:,.2f}\n",
    "Taxa de Mortalidade: {d:.2f}%\n",
    "''')\n",
    "\n",
    "sys.stdout.close()\n",
    "sys.stdout=stdoutOrigin\n",
    "\n",
    "print('Arquivo criado com sucesso!')\n",
    "t2 = time.time()\n",
    "print(f'Tempo de processamento: {t2-t1:.2f}s')"
   ]
  },
  {
   "cell_type": "code",
   "execution_count": 13,
   "metadata": {},
   "outputs": [
    {
     "name": "stdout",
     "output_type": "stream",
     "text": [
      "Arquivo criado com sucesso!\n",
      "Tempo de processamento: 5.27s\n"
     ]
    }
   ],
   "source": [
    "t1 = time.time()\n",
    "\n",
    "stdoutOrigin=sys.stdout \n",
    "sys.stdout = open(\"log_cidade.txt\", \"w\")\n",
    "\n",
    "print('Dados Covid-19 por cidade:\\n')\n",
    "print(r'{casos | mortes | por 100k/Hab | tx morte (%)}')\n",
    "print()\n",
    "\n",
    "# Eliminar todas as linhas da coluna da cidade cujo valor seja Nan ou nulo.\n",
    "df1 = df[(df['state'] == 'MG')].dropna(subset = ['city'])\n",
    "\n",
    "#Loop de exibição dos valores e dados de cada cidade: \n",
    "for y in df1.city.unique():\n",
    "    e = df1[(df1[\"city\"] == y) & df1['is_last'] == True].iloc[0].values[4]\n",
    "    f = df1[(df1[\"city\"] == y) & df1['is_last'] == True].iloc[0].values[5]\n",
    "    g = df1[(df1[\"city\"] == y) & df1['is_last'] == True].iloc[0].values[10]\n",
    "    h = df1[(df1[\"city\"] == y) & df1['is_last'] == True].iloc[0].values[11] * 100\n",
    "    print(f'{y}: {e:,} | {f:,} | {g:,.2f} | {h:.2f}%')\n",
    "\n",
    "sys.stdout.close()\n",
    "sys.stdout=stdoutOrigin\n",
    "\n",
    "print('Arquivo criado com sucesso!')\n",
    "t2 = time.time()\n",
    "print(f'Tempo de processamento: {t2-t1:.2f}s')"
   ]
  },
  {
   "cell_type": "code",
   "execution_count": 14,
   "metadata": {},
   "outputs": [
    {
     "ename": "ConnectionError",
     "evalue": "HTTPSConnectionPool(host='opendata.ecdc.europa.eu', port=443): Max retries exceeded with url: /covid19/casedistribution/csv (Caused by NewConnectionError('<urllib3.connection.VerifiedHTTPSConnection object at 0x000001989F3F84C8>: Failed to establish a new connection: [WinError 10060] Uma tentativa de conexão falhou porque o componente conectado não respondeu\\r\\ncorretamente após um período de tempo ou a conexão estabelecida falhou\\r\\nporque o host conectado não respondeu'))",
     "output_type": "error",
     "traceback": [
      "\u001b[1;31m---------------------------------------------------------------------------\u001b[0m",
      "\u001b[1;31mTimeoutError\u001b[0m                              Traceback (most recent call last)",
      "\u001b[1;32m~\\anaconda3\\lib\\site-packages\\urllib3\\connection.py\u001b[0m in \u001b[0;36m_new_conn\u001b[1;34m(self)\u001b[0m\n\u001b[0;32m    158\u001b[0m             conn = connection.create_connection(\n\u001b[1;32m--> 159\u001b[1;33m                 (self._dns_host, self.port), self.timeout, **extra_kw)\n\u001b[0m\u001b[0;32m    160\u001b[0m \u001b[1;33m\u001b[0m\u001b[0m\n",
      "\u001b[1;32m~\\anaconda3\\lib\\site-packages\\urllib3\\util\\connection.py\u001b[0m in \u001b[0;36mcreate_connection\u001b[1;34m(address, timeout, source_address, socket_options)\u001b[0m\n\u001b[0;32m     79\u001b[0m     \u001b[1;32mif\u001b[0m \u001b[0merr\u001b[0m \u001b[1;32mis\u001b[0m \u001b[1;32mnot\u001b[0m \u001b[1;32mNone\u001b[0m\u001b[1;33m:\u001b[0m\u001b[1;33m\u001b[0m\u001b[1;33m\u001b[0m\u001b[0m\n\u001b[1;32m---> 80\u001b[1;33m         \u001b[1;32mraise\u001b[0m \u001b[0merr\u001b[0m\u001b[1;33m\u001b[0m\u001b[1;33m\u001b[0m\u001b[0m\n\u001b[0m\u001b[0;32m     81\u001b[0m \u001b[1;33m\u001b[0m\u001b[0m\n",
      "\u001b[1;32m~\\anaconda3\\lib\\site-packages\\urllib3\\util\\connection.py\u001b[0m in \u001b[0;36mcreate_connection\u001b[1;34m(address, timeout, source_address, socket_options)\u001b[0m\n\u001b[0;32m     69\u001b[0m                 \u001b[0msock\u001b[0m\u001b[1;33m.\u001b[0m\u001b[0mbind\u001b[0m\u001b[1;33m(\u001b[0m\u001b[0msource_address\u001b[0m\u001b[1;33m)\u001b[0m\u001b[1;33m\u001b[0m\u001b[1;33m\u001b[0m\u001b[0m\n\u001b[1;32m---> 70\u001b[1;33m             \u001b[0msock\u001b[0m\u001b[1;33m.\u001b[0m\u001b[0mconnect\u001b[0m\u001b[1;33m(\u001b[0m\u001b[0msa\u001b[0m\u001b[1;33m)\u001b[0m\u001b[1;33m\u001b[0m\u001b[1;33m\u001b[0m\u001b[0m\n\u001b[0m\u001b[0;32m     71\u001b[0m             \u001b[1;32mreturn\u001b[0m \u001b[0msock\u001b[0m\u001b[1;33m\u001b[0m\u001b[1;33m\u001b[0m\u001b[0m\n",
      "\u001b[1;31mTimeoutError\u001b[0m: [WinError 10060] Uma tentativa de conexão falhou porque o componente conectado não respondeu\r\ncorretamente após um período de tempo ou a conexão estabelecida falhou\r\nporque o host conectado não respondeu",
      "\nDuring handling of the above exception, another exception occurred:\n",
      "\u001b[1;31mNewConnectionError\u001b[0m                        Traceback (most recent call last)",
      "\u001b[1;32m~\\anaconda3\\lib\\site-packages\\urllib3\\connectionpool.py\u001b[0m in \u001b[0;36murlopen\u001b[1;34m(self, method, url, body, headers, retries, redirect, assert_same_host, timeout, pool_timeout, release_conn, chunked, body_pos, **response_kw)\u001b[0m\n\u001b[0;32m    599\u001b[0m                                                   \u001b[0mbody\u001b[0m\u001b[1;33m=\u001b[0m\u001b[0mbody\u001b[0m\u001b[1;33m,\u001b[0m \u001b[0mheaders\u001b[0m\u001b[1;33m=\u001b[0m\u001b[0mheaders\u001b[0m\u001b[1;33m,\u001b[0m\u001b[1;33m\u001b[0m\u001b[1;33m\u001b[0m\u001b[0m\n\u001b[1;32m--> 600\u001b[1;33m                                                   chunked=chunked)\n\u001b[0m\u001b[0;32m    601\u001b[0m \u001b[1;33m\u001b[0m\u001b[0m\n",
      "\u001b[1;32m~\\anaconda3\\lib\\site-packages\\urllib3\\connectionpool.py\u001b[0m in \u001b[0;36m_make_request\u001b[1;34m(self, conn, method, url, timeout, chunked, **httplib_request_kw)\u001b[0m\n\u001b[0;32m    342\u001b[0m         \u001b[1;32mtry\u001b[0m\u001b[1;33m:\u001b[0m\u001b[1;33m\u001b[0m\u001b[1;33m\u001b[0m\u001b[0m\n\u001b[1;32m--> 343\u001b[1;33m             \u001b[0mself\u001b[0m\u001b[1;33m.\u001b[0m\u001b[0m_validate_conn\u001b[0m\u001b[1;33m(\u001b[0m\u001b[0mconn\u001b[0m\u001b[1;33m)\u001b[0m\u001b[1;33m\u001b[0m\u001b[1;33m\u001b[0m\u001b[0m\n\u001b[0m\u001b[0;32m    344\u001b[0m         \u001b[1;32mexcept\u001b[0m \u001b[1;33m(\u001b[0m\u001b[0mSocketTimeout\u001b[0m\u001b[1;33m,\u001b[0m \u001b[0mBaseSSLError\u001b[0m\u001b[1;33m)\u001b[0m \u001b[1;32mas\u001b[0m \u001b[0me\u001b[0m\u001b[1;33m:\u001b[0m\u001b[1;33m\u001b[0m\u001b[1;33m\u001b[0m\u001b[0m\n",
      "\u001b[1;32m~\\anaconda3\\lib\\site-packages\\urllib3\\connectionpool.py\u001b[0m in \u001b[0;36m_validate_conn\u001b[1;34m(self, conn)\u001b[0m\n\u001b[0;32m    838\u001b[0m         \u001b[1;32mif\u001b[0m \u001b[1;32mnot\u001b[0m \u001b[0mgetattr\u001b[0m\u001b[1;33m(\u001b[0m\u001b[0mconn\u001b[0m\u001b[1;33m,\u001b[0m \u001b[1;34m'sock'\u001b[0m\u001b[1;33m,\u001b[0m \u001b[1;32mNone\u001b[0m\u001b[1;33m)\u001b[0m\u001b[1;33m:\u001b[0m  \u001b[1;31m# AppEngine might not have  `.sock`\u001b[0m\u001b[1;33m\u001b[0m\u001b[1;33m\u001b[0m\u001b[0m\n\u001b[1;32m--> 839\u001b[1;33m             \u001b[0mconn\u001b[0m\u001b[1;33m.\u001b[0m\u001b[0mconnect\u001b[0m\u001b[1;33m(\u001b[0m\u001b[1;33m)\u001b[0m\u001b[1;33m\u001b[0m\u001b[1;33m\u001b[0m\u001b[0m\n\u001b[0m\u001b[0;32m    840\u001b[0m \u001b[1;33m\u001b[0m\u001b[0m\n",
      "\u001b[1;32m~\\anaconda3\\lib\\site-packages\\urllib3\\connection.py\u001b[0m in \u001b[0;36mconnect\u001b[1;34m(self)\u001b[0m\n\u001b[0;32m    300\u001b[0m         \u001b[1;31m# Add certificate verification\u001b[0m\u001b[1;33m\u001b[0m\u001b[1;33m\u001b[0m\u001b[1;33m\u001b[0m\u001b[0m\n\u001b[1;32m--> 301\u001b[1;33m         \u001b[0mconn\u001b[0m \u001b[1;33m=\u001b[0m \u001b[0mself\u001b[0m\u001b[1;33m.\u001b[0m\u001b[0m_new_conn\u001b[0m\u001b[1;33m(\u001b[0m\u001b[1;33m)\u001b[0m\u001b[1;33m\u001b[0m\u001b[1;33m\u001b[0m\u001b[0m\n\u001b[0m\u001b[0;32m    302\u001b[0m         \u001b[0mhostname\u001b[0m \u001b[1;33m=\u001b[0m \u001b[0mself\u001b[0m\u001b[1;33m.\u001b[0m\u001b[0mhost\u001b[0m\u001b[1;33m\u001b[0m\u001b[1;33m\u001b[0m\u001b[0m\n",
      "\u001b[1;32m~\\anaconda3\\lib\\site-packages\\urllib3\\connection.py\u001b[0m in \u001b[0;36m_new_conn\u001b[1;34m(self)\u001b[0m\n\u001b[0;32m    167\u001b[0m             raise NewConnectionError(\n\u001b[1;32m--> 168\u001b[1;33m                 self, \"Failed to establish a new connection: %s\" % e)\n\u001b[0m\u001b[0;32m    169\u001b[0m \u001b[1;33m\u001b[0m\u001b[0m\n",
      "\u001b[1;31mNewConnectionError\u001b[0m: <urllib3.connection.VerifiedHTTPSConnection object at 0x000001989F3F84C8>: Failed to establish a new connection: [WinError 10060] Uma tentativa de conexão falhou porque o componente conectado não respondeu\r\ncorretamente após um período de tempo ou a conexão estabelecida falhou\r\nporque o host conectado não respondeu",
      "\nDuring handling of the above exception, another exception occurred:\n",
      "\u001b[1;31mMaxRetryError\u001b[0m                             Traceback (most recent call last)",
      "\u001b[1;32m~\\anaconda3\\lib\\site-packages\\requests\\adapters.py\u001b[0m in \u001b[0;36msend\u001b[1;34m(self, request, stream, timeout, verify, cert, proxies)\u001b[0m\n\u001b[0;32m    448\u001b[0m                     \u001b[0mretries\u001b[0m\u001b[1;33m=\u001b[0m\u001b[0mself\u001b[0m\u001b[1;33m.\u001b[0m\u001b[0mmax_retries\u001b[0m\u001b[1;33m,\u001b[0m\u001b[1;33m\u001b[0m\u001b[1;33m\u001b[0m\u001b[0m\n\u001b[1;32m--> 449\u001b[1;33m                     \u001b[0mtimeout\u001b[0m\u001b[1;33m=\u001b[0m\u001b[0mtimeout\u001b[0m\u001b[1;33m\u001b[0m\u001b[1;33m\u001b[0m\u001b[0m\n\u001b[0m\u001b[0;32m    450\u001b[0m                 )\n",
      "\u001b[1;32m~\\anaconda3\\lib\\site-packages\\urllib3\\connectionpool.py\u001b[0m in \u001b[0;36murlopen\u001b[1;34m(self, method, url, body, headers, retries, redirect, assert_same_host, timeout, pool_timeout, release_conn, chunked, body_pos, **response_kw)\u001b[0m\n\u001b[0;32m    637\u001b[0m             retries = retries.increment(method, url, error=e, _pool=self,\n\u001b[1;32m--> 638\u001b[1;33m                                         _stacktrace=sys.exc_info()[2])\n\u001b[0m\u001b[0;32m    639\u001b[0m             \u001b[0mretries\u001b[0m\u001b[1;33m.\u001b[0m\u001b[0msleep\u001b[0m\u001b[1;33m(\u001b[0m\u001b[1;33m)\u001b[0m\u001b[1;33m\u001b[0m\u001b[1;33m\u001b[0m\u001b[0m\n",
      "\u001b[1;32m~\\anaconda3\\lib\\site-packages\\urllib3\\util\\retry.py\u001b[0m in \u001b[0;36mincrement\u001b[1;34m(self, method, url, response, error, _pool, _stacktrace)\u001b[0m\n\u001b[0;32m    398\u001b[0m         \u001b[1;32mif\u001b[0m \u001b[0mnew_retry\u001b[0m\u001b[1;33m.\u001b[0m\u001b[0mis_exhausted\u001b[0m\u001b[1;33m(\u001b[0m\u001b[1;33m)\u001b[0m\u001b[1;33m:\u001b[0m\u001b[1;33m\u001b[0m\u001b[1;33m\u001b[0m\u001b[0m\n\u001b[1;32m--> 399\u001b[1;33m             \u001b[1;32mraise\u001b[0m \u001b[0mMaxRetryError\u001b[0m\u001b[1;33m(\u001b[0m\u001b[0m_pool\u001b[0m\u001b[1;33m,\u001b[0m \u001b[0murl\u001b[0m\u001b[1;33m,\u001b[0m \u001b[0merror\u001b[0m \u001b[1;32mor\u001b[0m \u001b[0mResponseError\u001b[0m\u001b[1;33m(\u001b[0m\u001b[0mcause\u001b[0m\u001b[1;33m)\u001b[0m\u001b[1;33m)\u001b[0m\u001b[1;33m\u001b[0m\u001b[1;33m\u001b[0m\u001b[0m\n\u001b[0m\u001b[0;32m    400\u001b[0m \u001b[1;33m\u001b[0m\u001b[0m\n",
      "\u001b[1;31mMaxRetryError\u001b[0m: HTTPSConnectionPool(host='opendata.ecdc.europa.eu', port=443): Max retries exceeded with url: /covid19/casedistribution/csv (Caused by NewConnectionError('<urllib3.connection.VerifiedHTTPSConnection object at 0x000001989F3F84C8>: Failed to establish a new connection: [WinError 10060] Uma tentativa de conexão falhou porque o componente conectado não respondeu\\r\\ncorretamente após um período de tempo ou a conexão estabelecida falhou\\r\\nporque o host conectado não respondeu'))",
      "\nDuring handling of the above exception, another exception occurred:\n",
      "\u001b[1;31mConnectionError\u001b[0m                           Traceback (most recent call last)",
      "\u001b[1;32m<ipython-input-14-22229f9ea4e4>\u001b[0m in \u001b[0;36m<module>\u001b[1;34m\u001b[0m\n\u001b[0;32m     61\u001b[0m     \u001b[0mlog_paises\u001b[0m\u001b[1;33m(\u001b[0m\u001b[1;33m)\u001b[0m\u001b[1;33m\u001b[0m\u001b[1;33m\u001b[0m\u001b[0m\n\u001b[0;32m     62\u001b[0m \u001b[1;33m\u001b[0m\u001b[0m\n\u001b[1;32m---> 63\u001b[1;33m \u001b[0mmain\u001b[0m\u001b[1;33m(\u001b[0m\u001b[1;33m)\u001b[0m\u001b[1;33m\u001b[0m\u001b[1;33m\u001b[0m\u001b[0m\n\u001b[0m",
      "\u001b[1;32m<ipython-input-14-22229f9ea4e4>\u001b[0m in \u001b[0;36mmain\u001b[1;34m()\u001b[0m\n\u001b[0;32m     57\u001b[0m         \u001b[0msys\u001b[0m\u001b[1;33m.\u001b[0m\u001b[0mstdout\u001b[0m\u001b[1;33m=\u001b[0m\u001b[0mstdoutOrigin\u001b[0m\u001b[1;33m\u001b[0m\u001b[1;33m\u001b[0m\u001b[0m\n\u001b[0;32m     58\u001b[0m \u001b[1;33m\u001b[0m\u001b[0m\n\u001b[1;32m---> 59\u001b[1;33m     \u001b[0mdownl_data\u001b[0m\u001b[1;33m(\u001b[0m\u001b[1;33m)\u001b[0m\u001b[1;33m\u001b[0m\u001b[1;33m\u001b[0m\u001b[0m\n\u001b[0m\u001b[0;32m     60\u001b[0m     \u001b[0mlog_cont\u001b[0m\u001b[1;33m(\u001b[0m\u001b[1;33m)\u001b[0m\u001b[1;33m\u001b[0m\u001b[1;33m\u001b[0m\u001b[0m\n\u001b[0;32m     61\u001b[0m     \u001b[0mlog_paises\u001b[0m\u001b[1;33m(\u001b[0m\u001b[1;33m)\u001b[0m\u001b[1;33m\u001b[0m\u001b[1;33m\u001b[0m\u001b[0m\n",
      "\u001b[1;32m<ipython-input-14-22229f9ea4e4>\u001b[0m in \u001b[0;36mdownl_data\u001b[1;34m()\u001b[0m\n\u001b[0;32m      5\u001b[0m         \u001b[0mtarget_csv_path\u001b[0m \u001b[1;33m=\u001b[0m \u001b[1;34m\"covid19_worldwise_cases.csv\"\u001b[0m\u001b[1;33m\u001b[0m\u001b[1;33m\u001b[0m\u001b[0m\n\u001b[0;32m      6\u001b[0m \u001b[1;33m\u001b[0m\u001b[0m\n\u001b[1;32m----> 7\u001b[1;33m         \u001b[0mresponse\u001b[0m \u001b[1;33m=\u001b[0m \u001b[0mrequests\u001b[0m\u001b[1;33m.\u001b[0m\u001b[0mget\u001b[0m\u001b[1;33m(\u001b[0m\u001b[0mdownload_url\u001b[0m\u001b[1;33m)\u001b[0m\u001b[1;33m\u001b[0m\u001b[1;33m\u001b[0m\u001b[0m\n\u001b[0m\u001b[0;32m      8\u001b[0m         \u001b[0mresponse\u001b[0m\u001b[1;33m.\u001b[0m\u001b[0mraise_for_status\u001b[0m\u001b[1;33m(\u001b[0m\u001b[1;33m)\u001b[0m    \u001b[1;31m# Confere se a requisição foi realizado com sucesso.\u001b[0m\u001b[1;33m\u001b[0m\u001b[1;33m\u001b[0m\u001b[0m\n\u001b[0;32m      9\u001b[0m \u001b[1;33m\u001b[0m\u001b[0m\n",
      "\u001b[1;32m~\\anaconda3\\lib\\site-packages\\requests\\api.py\u001b[0m in \u001b[0;36mget\u001b[1;34m(url, params, **kwargs)\u001b[0m\n\u001b[0;32m     73\u001b[0m \u001b[1;33m\u001b[0m\u001b[0m\n\u001b[0;32m     74\u001b[0m     \u001b[0mkwargs\u001b[0m\u001b[1;33m.\u001b[0m\u001b[0msetdefault\u001b[0m\u001b[1;33m(\u001b[0m\u001b[1;34m'allow_redirects'\u001b[0m\u001b[1;33m,\u001b[0m \u001b[1;32mTrue\u001b[0m\u001b[1;33m)\u001b[0m\u001b[1;33m\u001b[0m\u001b[1;33m\u001b[0m\u001b[0m\n\u001b[1;32m---> 75\u001b[1;33m     \u001b[1;32mreturn\u001b[0m \u001b[0mrequest\u001b[0m\u001b[1;33m(\u001b[0m\u001b[1;34m'get'\u001b[0m\u001b[1;33m,\u001b[0m \u001b[0murl\u001b[0m\u001b[1;33m,\u001b[0m \u001b[0mparams\u001b[0m\u001b[1;33m=\u001b[0m\u001b[0mparams\u001b[0m\u001b[1;33m,\u001b[0m \u001b[1;33m**\u001b[0m\u001b[0mkwargs\u001b[0m\u001b[1;33m)\u001b[0m\u001b[1;33m\u001b[0m\u001b[1;33m\u001b[0m\u001b[0m\n\u001b[0m\u001b[0;32m     76\u001b[0m \u001b[1;33m\u001b[0m\u001b[0m\n\u001b[0;32m     77\u001b[0m \u001b[1;33m\u001b[0m\u001b[0m\n",
      "\u001b[1;32m~\\anaconda3\\lib\\site-packages\\requests\\api.py\u001b[0m in \u001b[0;36mrequest\u001b[1;34m(method, url, **kwargs)\u001b[0m\n\u001b[0;32m     58\u001b[0m     \u001b[1;31m# cases, and look like a memory leak in others.\u001b[0m\u001b[1;33m\u001b[0m\u001b[1;33m\u001b[0m\u001b[1;33m\u001b[0m\u001b[0m\n\u001b[0;32m     59\u001b[0m     \u001b[1;32mwith\u001b[0m \u001b[0msessions\u001b[0m\u001b[1;33m.\u001b[0m\u001b[0mSession\u001b[0m\u001b[1;33m(\u001b[0m\u001b[1;33m)\u001b[0m \u001b[1;32mas\u001b[0m \u001b[0msession\u001b[0m\u001b[1;33m:\u001b[0m\u001b[1;33m\u001b[0m\u001b[1;33m\u001b[0m\u001b[0m\n\u001b[1;32m---> 60\u001b[1;33m         \u001b[1;32mreturn\u001b[0m \u001b[0msession\u001b[0m\u001b[1;33m.\u001b[0m\u001b[0mrequest\u001b[0m\u001b[1;33m(\u001b[0m\u001b[0mmethod\u001b[0m\u001b[1;33m=\u001b[0m\u001b[0mmethod\u001b[0m\u001b[1;33m,\u001b[0m \u001b[0murl\u001b[0m\u001b[1;33m=\u001b[0m\u001b[0murl\u001b[0m\u001b[1;33m,\u001b[0m \u001b[1;33m**\u001b[0m\u001b[0mkwargs\u001b[0m\u001b[1;33m)\u001b[0m\u001b[1;33m\u001b[0m\u001b[1;33m\u001b[0m\u001b[0m\n\u001b[0m\u001b[0;32m     61\u001b[0m \u001b[1;33m\u001b[0m\u001b[0m\n\u001b[0;32m     62\u001b[0m \u001b[1;33m\u001b[0m\u001b[0m\n",
      "\u001b[1;32m~\\anaconda3\\lib\\site-packages\\requests\\sessions.py\u001b[0m in \u001b[0;36mrequest\u001b[1;34m(self, method, url, params, data, headers, cookies, files, auth, timeout, allow_redirects, proxies, hooks, stream, verify, cert, json)\u001b[0m\n\u001b[0;32m    531\u001b[0m         }\n\u001b[0;32m    532\u001b[0m         \u001b[0msend_kwargs\u001b[0m\u001b[1;33m.\u001b[0m\u001b[0mupdate\u001b[0m\u001b[1;33m(\u001b[0m\u001b[0msettings\u001b[0m\u001b[1;33m)\u001b[0m\u001b[1;33m\u001b[0m\u001b[1;33m\u001b[0m\u001b[0m\n\u001b[1;32m--> 533\u001b[1;33m         \u001b[0mresp\u001b[0m \u001b[1;33m=\u001b[0m \u001b[0mself\u001b[0m\u001b[1;33m.\u001b[0m\u001b[0msend\u001b[0m\u001b[1;33m(\u001b[0m\u001b[0mprep\u001b[0m\u001b[1;33m,\u001b[0m \u001b[1;33m**\u001b[0m\u001b[0msend_kwargs\u001b[0m\u001b[1;33m)\u001b[0m\u001b[1;33m\u001b[0m\u001b[1;33m\u001b[0m\u001b[0m\n\u001b[0m\u001b[0;32m    534\u001b[0m \u001b[1;33m\u001b[0m\u001b[0m\n\u001b[0;32m    535\u001b[0m         \u001b[1;32mreturn\u001b[0m \u001b[0mresp\u001b[0m\u001b[1;33m\u001b[0m\u001b[1;33m\u001b[0m\u001b[0m\n",
      "\u001b[1;32m~\\anaconda3\\lib\\site-packages\\requests\\sessions.py\u001b[0m in \u001b[0;36msend\u001b[1;34m(self, request, **kwargs)\u001b[0m\n\u001b[0;32m    644\u001b[0m \u001b[1;33m\u001b[0m\u001b[0m\n\u001b[0;32m    645\u001b[0m         \u001b[1;31m# Send the request\u001b[0m\u001b[1;33m\u001b[0m\u001b[1;33m\u001b[0m\u001b[1;33m\u001b[0m\u001b[0m\n\u001b[1;32m--> 646\u001b[1;33m         \u001b[0mr\u001b[0m \u001b[1;33m=\u001b[0m \u001b[0madapter\u001b[0m\u001b[1;33m.\u001b[0m\u001b[0msend\u001b[0m\u001b[1;33m(\u001b[0m\u001b[0mrequest\u001b[0m\u001b[1;33m,\u001b[0m \u001b[1;33m**\u001b[0m\u001b[0mkwargs\u001b[0m\u001b[1;33m)\u001b[0m\u001b[1;33m\u001b[0m\u001b[1;33m\u001b[0m\u001b[0m\n\u001b[0m\u001b[0;32m    647\u001b[0m \u001b[1;33m\u001b[0m\u001b[0m\n\u001b[0;32m    648\u001b[0m         \u001b[1;31m# Total elapsed time of the request (approximately)\u001b[0m\u001b[1;33m\u001b[0m\u001b[1;33m\u001b[0m\u001b[1;33m\u001b[0m\u001b[0m\n",
      "\u001b[1;32m~\\anaconda3\\lib\\site-packages\\requests\\adapters.py\u001b[0m in \u001b[0;36msend\u001b[1;34m(self, request, stream, timeout, verify, cert, proxies)\u001b[0m\n\u001b[0;32m    514\u001b[0m                 \u001b[1;32mraise\u001b[0m \u001b[0mSSLError\u001b[0m\u001b[1;33m(\u001b[0m\u001b[0me\u001b[0m\u001b[1;33m,\u001b[0m \u001b[0mrequest\u001b[0m\u001b[1;33m=\u001b[0m\u001b[0mrequest\u001b[0m\u001b[1;33m)\u001b[0m\u001b[1;33m\u001b[0m\u001b[1;33m\u001b[0m\u001b[0m\n\u001b[0;32m    515\u001b[0m \u001b[1;33m\u001b[0m\u001b[0m\n\u001b[1;32m--> 516\u001b[1;33m             \u001b[1;32mraise\u001b[0m \u001b[0mConnectionError\u001b[0m\u001b[1;33m(\u001b[0m\u001b[0me\u001b[0m\u001b[1;33m,\u001b[0m \u001b[0mrequest\u001b[0m\u001b[1;33m=\u001b[0m\u001b[0mrequest\u001b[0m\u001b[1;33m)\u001b[0m\u001b[1;33m\u001b[0m\u001b[1;33m\u001b[0m\u001b[0m\n\u001b[0m\u001b[0;32m    517\u001b[0m \u001b[1;33m\u001b[0m\u001b[0m\n\u001b[0;32m    518\u001b[0m         \u001b[1;32mexcept\u001b[0m \u001b[0mClosedPoolError\u001b[0m \u001b[1;32mas\u001b[0m \u001b[0me\u001b[0m\u001b[1;33m:\u001b[0m\u001b[1;33m\u001b[0m\u001b[1;33m\u001b[0m\u001b[0m\n",
      "\u001b[1;31mConnectionError\u001b[0m: HTTPSConnectionPool(host='opendata.ecdc.europa.eu', port=443): Max retries exceeded with url: /covid19/casedistribution/csv (Caused by NewConnectionError('<urllib3.connection.VerifiedHTTPSConnection object at 0x000001989F3F84C8>: Failed to establish a new connection: [WinError 10060] Uma tentativa de conexão falhou porque o componente conectado não respondeu\\r\\ncorretamente após um período de tempo ou a conexão estabelecida falhou\\r\\nporque o host conectado não respondeu'))"
     ]
    }
   ],
   "source": [
    "\n",
    "def main():\n",
    "      \n",
    "    def downl_data():\n",
    "        download_url = \"https://opendata.ecdc.europa.eu/covid19/casedistribution/csv\"\n",
    "        target_csv_path = \"covid19_worldwise_cases.csv\"\n",
    "\n",
    "        response = requests.get(download_url)\n",
    "        response.raise_for_status()    # Confere se a requisição foi realizado com sucesso.\n",
    "        \n",
    "        with open(target_csv_path, \"wb\") as f:\n",
    "            f.write(response.content)\n",
    "\n",
    "       \n",
    "    df_c = pd.read_csv('covid19_worldwise_cases.csv')\n",
    "    \n",
    "    def log_cont():\n",
    "        \n",
    "        stdoutOrigin=sys.stdout \n",
    "        sys.stdout = open(\"log_continente.txt\", \"w\")\n",
    "\n",
    "        print('Dados Covid-19 por continente:\\n')\n",
    "        print(r'{casos confirmados(%) | mortes(%)}')\n",
    "        print()\n",
    "        \n",
    "        a = df_c['cases'].sum()\n",
    "        b = df_c['deaths'].sum()\n",
    "        \n",
    "        print(f'World: {a:,} | {b:,}\\n')\n",
    "        \n",
    "        \n",
    "        for cont in df_c.continentExp.unique():\n",
    "            c = df_c['cases'][df_c['continentExp'] == cont].sum()\n",
    "            d = df_c['deaths'][df_c['continentExp'] == cont].sum()\n",
    "            e = c / df_c['cases'].sum() * 100\n",
    "            f = d / df_c['deaths'].sum() * 100    \n",
    "            print(f'{cont}: {c:,} ({e:.2f}%) | {d:,} ({f:.2f}%)')\n",
    "\n",
    "        sys.stdout.close()\n",
    "        sys.stdout=stdoutOrigin\n",
    "        \n",
    "    def log_paises():\n",
    "        \n",
    "        stdoutOrigin=sys.stdout \n",
    "        sys.stdout = open(\"log_paises.txt\", \"w\")\n",
    "\n",
    "        print('Dados Covid-19 por país:\\n')\n",
    "        print(r'{casos confirmados | mortes (% letalidade)}')\n",
    "        print()\n",
    "        \n",
    "        for country in df_c.countriesAndTerritories.unique():\n",
    "            g = df_c['cases'][df_c['countriesAndTerritories'] == country].sum()\n",
    "            h = df_c['deaths'][df_c['countriesAndTerritories'] == country].sum()\n",
    "            w = (h / g) * 100\n",
    "            print(f'{country}: {g:,} | {h:,} ({w:.2f}%)')\n",
    "\n",
    "        sys.stdout.close()\n",
    "        sys.stdout=stdoutOrigin\n",
    "        \n",
    "    downl_data()\n",
    "    log_cont()\n",
    "    log_paises()\n",
    "    \n",
    "main()\n"
   ]
  },
  {
   "cell_type": "code",
   "execution_count": null,
   "metadata": {},
   "outputs": [],
   "source": [
    "download_url = \"https://opendata.ecdc.europa.eu/covid19/casedistribution/csv\"\n",
    "target_csv_path = \"covid19_worldwise_cases.csv\"\n",
    "\n",
    "response = requests.get(download_url)\n",
    "response.raise_for_status()    # Confere se a requisição foi realizado com sucesso.\n",
    "        \n",
    "with open(target_csv_path, \"wb\") as f:\n",
    "    f.write(response.content)\n",
    "\n",
    "       \n",
    "df_country = pd.read_csv('covid19_worldwise_cases.csv')"
   ]
  }
 ],
 "metadata": {
  "kernelspec": {
   "display_name": "Python 3",
   "language": "python",
   "name": "python3"
  },
  "language_info": {
   "codemirror_mode": {
    "name": "ipython",
    "version": 3
   },
   "file_extension": ".py",
   "mimetype": "text/x-python",
   "name": "python",
   "nbconvert_exporter": "python",
   "pygments_lexer": "ipython3",
   "version": "3.7.6"
  }
 },
 "nbformat": 4,
 "nbformat_minor": 4
}
