{
 "cells": [
  {
   "cell_type": "markdown",
   "metadata": {
    "toc": true
   },
   "source": [
    "<h1>Table of Contents<span class=\"tocSkip\"></span></h1>\n",
    "<div class=\"toc\"><ul class=\"toc-item\"><li><ul class=\"toc-item\"><li><span><a href=\"#-Dados-obtidos-no--Brasil-IO--\" data-toc-modified-id=\"-Dados-obtidos-no--Brasil-IO---0.1\"> Dados obtidos no <a href=\"https://data.brasil.io/dataset/covid19/_meta/list.html\" target=\"_blank\"> Brasil IO </a> </a></span></li></ul></li><li><span><a href=\"#asdasd\" data-toc-modified-id=\"asdasd-1\">asdasd</a></span></li></ul></div>"
   ]
  },
  {
   "cell_type": "markdown",
   "metadata": {},
   "source": [
    "<h1>RELATÓRIO COVID-19</h1>"
   ]
  },
  {
   "cell_type": "markdown",
   "metadata": {},
   "source": [
    "<h4> Dados obtidos no <a href = https://data.brasil.io/dataset/covid19/_meta/list.html> Brasil IO </a> </h4"
   ]
  },
  {
   "cell_type": "markdown",
   "metadata": {},
   "source": [
    "### asdasd"
   ]
  },
  {
   "cell_type": "code",
   "execution_count": 1,
   "metadata": {
    "hide_input": false
   },
   "outputs": [],
   "source": [
    "import requests\n",
    "import pandas as pd\n",
    "import numpy as np\n",
    "import matplotlib.pyplot as plt\n",
    "from IPython.display import clear_output\n",
    "import sys \n",
    "import time\n",
    "import qgrid"
   ]
  },
  {
   "cell_type": "code",
   "execution_count": null,
   "metadata": {
    "hide_input": false
   },
   "outputs": [],
   "source": []
  },
  {
   "cell_type": "code",
   "execution_count": 3,
   "metadata": {
    "code_folding": [],
    "tags": []
   },
   "outputs": [
    {
     "output_type": "stream",
     "name": "stdout",
     "text": "Download pronto.\n"
    }
   ],
   "source": [
    "# Fazer o dowload do dataset e salvar no caminho especificado.\n",
    "\n",
    "import requests\n",
    "\n",
    "download_url = \"https://data.brasil.io/dataset/covid19/caso.csv.gz\"\n",
    "target_csv_path = \"caso.csv.gz\"\n",
    "\n",
    "response = requests.get(download_url)\n",
    "response.raise_for_status()    # Check that the request was successful\n",
    "with open(target_csv_path, \"wb\") as f:\n",
    "    f.write(response.content)\n",
    "print(\"Download pronto.\")"
   ]
  },
  {
   "cell_type": "code",
   "execution_count": 2,
   "metadata": {
    "code_folding": [],
    "tags": []
   },
   "outputs": [
    {
     "output_type": "stream",
     "name": "stdout",
     "text": "<class 'pandas.core.frame.DataFrame'>\nRangeIndex: 331105 entries, 0 to 331104\nData columns (total 12 columns):\n #   Column                          Non-Null Count   Dtype  \n---  ------                          --------------   -----  \n 0   date                            331105 non-null  object \n 1   state                           331105 non-null  object \n 2   city                            327962 non-null  object \n 3   place_type                      331105 non-null  object \n 4   confirmed                       331105 non-null  int64  \n 5   deaths                          331105 non-null  int64  \n 6   order_for_place                 331105 non-null  int64  \n 7   is_last                         331105 non-null  bool   \n 8   estimated_population_2019       329407 non-null  float64\n 9   city_ibge_code                  329407 non-null  float64\n 10  confirmed_per_100k_inhabitants  321702 non-null  float64\n 11  death_rate                      331105 non-null  float64\ndtypes: bool(1), float64(4), int64(3), object(4)\nmemory usage: 28.1+ MB\n"
    }
   ],
   "source": [
    "# Trasformação do arquivo em dataframe.\n",
    "\n",
    "import pandas as pd\n",
    "\n",
    "\n",
    "df = pd.read_csv('caso.csv.gz', compression='gzip',error_bad_lines=False)\n",
    "df.info()\n"
   ]
  },
  {
   "cell_type": "code",
   "execution_count": 4,
   "metadata": {},
   "outputs": [
    {
     "data": {
      "application/vnd.jupyter.widget-view+json": {
       "model_id": "3a3ae262c33e41bf9a13c46d48c8e31d",
       "version_major": 2,
       "version_minor": 0
      },
      "text/plain": [
       "QgridWidget(grid_options={'fullWidthRows': True, 'syncColumnCellResize': True, 'forceFitColumns': True, 'defau…"
      ]
     },
     "metadata": {},
     "output_type": "display_data"
    }
   ],
   "source": [
    "# Execute os seguintes comandos \n",
    "\n",
    "## jupyter nbextension enable --py --sys-prefix qgrid\n",
    "## jupyter nbextension enable --py --sys-prefix widgetsnbextension\n",
    "\n",
    "qgrid.show_grid(df)"
   ]
  },
  {
   "cell_type": "code",
   "execution_count": 5,
   "metadata": {},
   "outputs": [
    {
     "name": "stdout",
     "output_type": "stream",
     "text": [
      "<class 'pandas.core.frame.DataFrame'>\n",
      "Int64Index: 38267 entries, 123803 to 162069\n",
      "Data columns (total 12 columns):\n",
      " #   Column                          Non-Null Count  Dtype  \n",
      "---  ------                          --------------  -----  \n",
      " 0   date                            38267 non-null  object \n",
      " 1   state                           38267 non-null  object \n",
      " 2   city                            38144 non-null  object \n",
      " 3   place_type                      38267 non-null  object \n",
      " 4   confirmed                       38267 non-null  int64  \n",
      " 5   deaths                          38267 non-null  int64  \n",
      " 6   order_for_place                 38267 non-null  int64  \n",
      " 7   is_last                         38267 non-null  bool   \n",
      " 8   estimated_population_2019       38157 non-null  float64\n",
      " 9   city_ibge_code                  38157 non-null  float64\n",
      " 10  confirmed_per_100k_inhabitants  37073 non-null  float64\n",
      " 11  death_rate                      38267 non-null  float64\n",
      "dtypes: bool(1), float64(4), int64(3), object(4)\n",
      "memory usage: 3.5+ MB\n"
     ]
    }
   ],
   "source": [
    "df_mg = df[df['state'] == 'MG']\n",
    "df_mg.info()"
   ]
  },
  {
   "cell_type": "code",
   "execution_count": 6,
   "metadata": {},
   "outputs": [
    {
     "data": {
      "text/html": [
       "<div>\n",
       "<style scoped>\n",
       "    .dataframe tbody tr th:only-of-type {\n",
       "        vertical-align: middle;\n",
       "    }\n",
       "\n",
       "    .dataframe tbody tr th {\n",
       "        vertical-align: top;\n",
       "    }\n",
       "\n",
       "    .dataframe thead th {\n",
       "        text-align: right;\n",
       "    }\n",
       "</style>\n",
       "<table border=\"1\" class=\"dataframe\">\n",
       "  <thead>\n",
       "    <tr style=\"text-align: right;\">\n",
       "      <th></th>\n",
       "      <th>date</th>\n",
       "      <th>state</th>\n",
       "      <th>city</th>\n",
       "      <th>place_type</th>\n",
       "      <th>confirmed</th>\n",
       "      <th>deaths</th>\n",
       "      <th>order_for_place</th>\n",
       "      <th>is_last</th>\n",
       "      <th>estimated_population_2019</th>\n",
       "      <th>city_ibge_code</th>\n",
       "      <th>confirmed_per_100k_inhabitants</th>\n",
       "      <th>death_rate</th>\n",
       "    </tr>\n",
       "  </thead>\n",
       "  <tbody>\n",
       "    <tr>\n",
       "      <th>142769</th>\n",
       "      <td>2020-07-09</td>\n",
       "      <td>MG</td>\n",
       "      <td>Juiz de Fora</td>\n",
       "      <td>city</td>\n",
       "      <td>2327</td>\n",
       "      <td>60</td>\n",
       "      <td>116</td>\n",
       "      <td>True</td>\n",
       "      <td>568873.0</td>\n",
       "      <td>3136702.0</td>\n",
       "      <td>409.05439</td>\n",
       "      <td>0.0258</td>\n",
       "    </tr>\n",
       "    <tr>\n",
       "      <th>142770</th>\n",
       "      <td>2020-07-08</td>\n",
       "      <td>MG</td>\n",
       "      <td>Juiz de Fora</td>\n",
       "      <td>city</td>\n",
       "      <td>2306</td>\n",
       "      <td>60</td>\n",
       "      <td>115</td>\n",
       "      <td>False</td>\n",
       "      <td>568873.0</td>\n",
       "      <td>3136702.0</td>\n",
       "      <td>405.36288</td>\n",
       "      <td>0.0260</td>\n",
       "    </tr>\n",
       "    <tr>\n",
       "      <th>142771</th>\n",
       "      <td>2020-07-07</td>\n",
       "      <td>MG</td>\n",
       "      <td>Juiz de Fora</td>\n",
       "      <td>city</td>\n",
       "      <td>2260</td>\n",
       "      <td>58</td>\n",
       "      <td>114</td>\n",
       "      <td>False</td>\n",
       "      <td>568873.0</td>\n",
       "      <td>3136702.0</td>\n",
       "      <td>397.27672</td>\n",
       "      <td>0.0257</td>\n",
       "    </tr>\n",
       "    <tr>\n",
       "      <th>142772</th>\n",
       "      <td>2020-07-06</td>\n",
       "      <td>MG</td>\n",
       "      <td>Juiz de Fora</td>\n",
       "      <td>city</td>\n",
       "      <td>2228</td>\n",
       "      <td>58</td>\n",
       "      <td>113</td>\n",
       "      <td>False</td>\n",
       "      <td>568873.0</td>\n",
       "      <td>3136702.0</td>\n",
       "      <td>391.65156</td>\n",
       "      <td>0.0260</td>\n",
       "    </tr>\n",
       "    <tr>\n",
       "      <th>142773</th>\n",
       "      <td>2020-07-05</td>\n",
       "      <td>MG</td>\n",
       "      <td>Juiz de Fora</td>\n",
       "      <td>city</td>\n",
       "      <td>2228</td>\n",
       "      <td>58</td>\n",
       "      <td>112</td>\n",
       "      <td>False</td>\n",
       "      <td>568873.0</td>\n",
       "      <td>3136702.0</td>\n",
       "      <td>391.65156</td>\n",
       "      <td>0.0260</td>\n",
       "    </tr>\n",
       "    <tr>\n",
       "      <th>...</th>\n",
       "      <td>...</td>\n",
       "      <td>...</td>\n",
       "      <td>...</td>\n",
       "      <td>...</td>\n",
       "      <td>...</td>\n",
       "      <td>...</td>\n",
       "      <td>...</td>\n",
       "      <td>...</td>\n",
       "      <td>...</td>\n",
       "      <td>...</td>\n",
       "      <td>...</td>\n",
       "      <td>...</td>\n",
       "    </tr>\n",
       "    <tr>\n",
       "      <th>142880</th>\n",
       "      <td>2020-03-19</td>\n",
       "      <td>MG</td>\n",
       "      <td>Juiz de Fora</td>\n",
       "      <td>city</td>\n",
       "      <td>2</td>\n",
       "      <td>0</td>\n",
       "      <td>5</td>\n",
       "      <td>False</td>\n",
       "      <td>568873.0</td>\n",
       "      <td>3136702.0</td>\n",
       "      <td>0.35157</td>\n",
       "      <td>0.0000</td>\n",
       "    </tr>\n",
       "    <tr>\n",
       "      <th>142881</th>\n",
       "      <td>2020-03-18</td>\n",
       "      <td>MG</td>\n",
       "      <td>Juiz de Fora</td>\n",
       "      <td>city</td>\n",
       "      <td>2</td>\n",
       "      <td>0</td>\n",
       "      <td>4</td>\n",
       "      <td>False</td>\n",
       "      <td>568873.0</td>\n",
       "      <td>3136702.0</td>\n",
       "      <td>0.35157</td>\n",
       "      <td>0.0000</td>\n",
       "    </tr>\n",
       "    <tr>\n",
       "      <th>142882</th>\n",
       "      <td>2020-03-17</td>\n",
       "      <td>MG</td>\n",
       "      <td>Juiz de Fora</td>\n",
       "      <td>city</td>\n",
       "      <td>2</td>\n",
       "      <td>0</td>\n",
       "      <td>3</td>\n",
       "      <td>False</td>\n",
       "      <td>568873.0</td>\n",
       "      <td>3136702.0</td>\n",
       "      <td>0.35157</td>\n",
       "      <td>0.0000</td>\n",
       "    </tr>\n",
       "    <tr>\n",
       "      <th>142883</th>\n",
       "      <td>2020-03-16</td>\n",
       "      <td>MG</td>\n",
       "      <td>Juiz de Fora</td>\n",
       "      <td>city</td>\n",
       "      <td>2</td>\n",
       "      <td>0</td>\n",
       "      <td>2</td>\n",
       "      <td>False</td>\n",
       "      <td>568873.0</td>\n",
       "      <td>3136702.0</td>\n",
       "      <td>0.35157</td>\n",
       "      <td>0.0000</td>\n",
       "    </tr>\n",
       "    <tr>\n",
       "      <th>142884</th>\n",
       "      <td>2020-03-14</td>\n",
       "      <td>MG</td>\n",
       "      <td>Juiz de Fora</td>\n",
       "      <td>city</td>\n",
       "      <td>1</td>\n",
       "      <td>0</td>\n",
       "      <td>1</td>\n",
       "      <td>False</td>\n",
       "      <td>568873.0</td>\n",
       "      <td>3136702.0</td>\n",
       "      <td>0.17579</td>\n",
       "      <td>0.0000</td>\n",
       "    </tr>\n",
       "  </tbody>\n",
       "</table>\n",
       "<p>116 rows × 12 columns</p>\n",
       "</div>"
      ],
      "text/plain": [
       "              date state          city place_type  confirmed  deaths  \\\n",
       "142769  2020-07-09    MG  Juiz de Fora       city       2327      60   \n",
       "142770  2020-07-08    MG  Juiz de Fora       city       2306      60   \n",
       "142771  2020-07-07    MG  Juiz de Fora       city       2260      58   \n",
       "142772  2020-07-06    MG  Juiz de Fora       city       2228      58   \n",
       "142773  2020-07-05    MG  Juiz de Fora       city       2228      58   \n",
       "...            ...   ...           ...        ...        ...     ...   \n",
       "142880  2020-03-19    MG  Juiz de Fora       city          2       0   \n",
       "142881  2020-03-18    MG  Juiz de Fora       city          2       0   \n",
       "142882  2020-03-17    MG  Juiz de Fora       city          2       0   \n",
       "142883  2020-03-16    MG  Juiz de Fora       city          2       0   \n",
       "142884  2020-03-14    MG  Juiz de Fora       city          1       0   \n",
       "\n",
       "        order_for_place  is_last  estimated_population_2019  city_ibge_code  \\\n",
       "142769              116     True                   568873.0       3136702.0   \n",
       "142770              115    False                   568873.0       3136702.0   \n",
       "142771              114    False                   568873.0       3136702.0   \n",
       "142772              113    False                   568873.0       3136702.0   \n",
       "142773              112    False                   568873.0       3136702.0   \n",
       "...                 ...      ...                        ...             ...   \n",
       "142880                5    False                   568873.0       3136702.0   \n",
       "142881                4    False                   568873.0       3136702.0   \n",
       "142882                3    False                   568873.0       3136702.0   \n",
       "142883                2    False                   568873.0       3136702.0   \n",
       "142884                1    False                   568873.0       3136702.0   \n",
       "\n",
       "        confirmed_per_100k_inhabitants  death_rate  \n",
       "142769                       409.05439      0.0258  \n",
       "142770                       405.36288      0.0260  \n",
       "142771                       397.27672      0.0257  \n",
       "142772                       391.65156      0.0260  \n",
       "142773                       391.65156      0.0260  \n",
       "...                                ...         ...  \n",
       "142880                         0.35157      0.0000  \n",
       "142881                         0.35157      0.0000  \n",
       "142882                         0.35157      0.0000  \n",
       "142883                         0.35157      0.0000  \n",
       "142884                         0.17579      0.0000  \n",
       "\n",
       "[116 rows x 12 columns]"
      ]
     },
     "execution_count": 6,
     "metadata": {},
     "output_type": "execute_result"
    }
   ],
   "source": [
    "pd.set_option(\"display.max.columns\",None)\n",
    "df_mg_jf= df[df['city'] == 'Juiz de Fora']\n",
    "df_mg_jf"
   ]
  },
  {
   "cell_type": "code",
   "execution_count": null,
   "metadata": {},
   "outputs": [],
   "source": []
  },
  {
   "cell_type": "code",
   "execution_count": 7,
   "metadata": {},
   "outputs": [
    {
     "name": "stdout",
     "output_type": "stream",
     "text": [
      "2327 60\n"
     ]
    }
   ],
   "source": [
    "# Filtros dos valores acumulados de casos confirmados e mortes: \n",
    " \n",
    "x = df_mg_jf[(df_mg_jf[\"is_last\"] == True)]\n",
    "total_confirmados = x.iloc[0].values[4]\n",
    "total_mortes = x.iloc[0].values[5]\n",
    "print(total_confirmados,total_mortes)"
   ]
  },
  {
   "cell_type": "code",
   "execution_count": 8,
   "metadata": {},
   "outputs": [],
   "source": [
    "df1 = df_mg_jf.sort_values(['confirmed','date'], ascending = [True,False])"
   ]
  },
  {
   "cell_type": "code",
   "execution_count": 9,
   "metadata": {},
   "outputs": [
    {
     "data": {
      "text/plain": [
       "<matplotlib.axes._subplots.AxesSubplot at 0x241f9c12b48>"
      ]
     },
     "execution_count": 9,
     "metadata": {},
     "output_type": "execute_result"
    },
    {
     "data": {
      "image/png": "[encoded data removed]",
      "text/plain": [
       "<Figure size 1080x288 with 1 Axes>"
      ]
     },
     "metadata": {
      "needs_background": "light"
     },
     "output_type": "display_data"
    }
   ],
   "source": [
    "df1.plot(x = 'date', \n",
    "         y = 'confirmed', \n",
    "         grid=True,\n",
    "         kind = 'area',\n",
    "         title = 'Casos Confirmados em Juiz de Fora',\n",
    "         figsize = (15,4)  \n",
    "        )"
   ]
  },
  {
   "cell_type": "code",
   "execution_count": 10,
   "metadata": {},
   "outputs": [
    {
     "data": {
      "image/png": "[encoded data removed]",
      "text/plain": [
       "<Figure size 1008x360 with 1 Axes>"
      ]
     },
     "metadata": {
      "needs_background": "light"
     },
     "output_type": "display_data"
    }
   ],
   "source": [
    "import matplotlib.pyplot as plt\n",
    "from matplotlib.offsetbox import AnchoredText\n",
    "\n",
    "fig, ax = plt.subplots(figsize=(14,5))\n",
    "fig.subplots_adjust(top=0.85)\n",
    "fig.suptitle('bold figure suptitle', fontsize=14, fontweight='bold')\n",
    "\n",
    "ax.plot(df1['order_for_place'], df1['confirmed'],'b-', label=\"Casos Confirmados\")\n",
    "ax.plot(df1['order_for_place'], df1['deaths'],'r-',label=\"Mortes\",)\n",
    "ax.legend()\n",
    "ax.set(xlabel='$tempo$ $em$ $dias$',title='Evolução Covid-19 em Juiz de Fora')\n",
    "plt.grid(axis='y')\n",
    "\n",
    "ax.text(3,300, f'Casos confirmados\\nMortes', style='italic',\n",
    "        bbox={'facecolor': 'gray', 'alpha': 0.20, 'pad': 20})\n",
    "\n",
    "\n",
    "\n",
    "plt.show()"
   ]
  },
  {
   "cell_type": "code",
   "execution_count": 11,
   "metadata": {
    "code_folding": []
   },
   "outputs": [
    {
     "data": {
      "image/png": "[encoded data removed]",
      "text/plain": [
       "<Figure size 1080x360 with 1 Axes>"
      ]
     },
     "metadata": {
      "needs_background": "light"
     },
     "output_type": "display_data"
    }
   ],
   "source": [
    "import matplotlib.pyplot as plt\n",
    "from IPython.display import clear_output \n",
    "\n",
    "def main():\n",
    "    \n",
    "    # Mostra a lista dos códigos estaduais\n",
    "    for s in df['state'].unique():\n",
    "        print(s, end='/ ')\n",
    "    \n",
    "    # Input do estado e filtro do mesmo\n",
    "    estado = str(input('\\nDigite o estado conforme a lista acima: ')).upper()\n",
    "    df_estado = df[df['state'] == estado]\n",
    "    \n",
    "    # Mostra a lista do nome das cidades\n",
    "    for c in df_estado['city'].unique():\n",
    "        print(c)\n",
    "        \n",
    "    # Input da cidade e filtro da mesma \n",
    "    cidade = input('\\nDigite o nome da cidade a lista acima: ')\n",
    "    df_cidade = df_estado[df_estado['city'] == cidade]\n",
    "    \n",
    "    # Filtro de quantidades por estado e município \n",
    "    tot_conf_est = df_estado[(df_estado[\"place_type\"] == 'state')].iloc[0].values[4]\n",
    "    tot_morte_est = df_estado[(df_estado[\"place_type\"] == 'state')].iloc[0].values[5]\n",
    "    tot_conf_cid = df_cidade[(df_cidade[\"is_last\"] == True)].iloc[0].values[4]\n",
    "    tot_mortes_cid = df_cidade[(df_cidade[\"is_last\"] == True)].iloc[0].values[5]\n",
    "    conf_per_100mil = df_cidade[(df_cidade[\"is_last\"] == True)].iloc[0].values[10]\n",
    "    tx_morte = df_cidade[(df_cidade[\"is_last\"] == True)].iloc[0].values[11] * 100\n",
    "    \n",
    "    def grafico():\n",
    "        \n",
    "        fig, ax = plt.subplots(figsize=(15,5))\n",
    "        fig.subplots_adjust(top=0.80)\n",
    "        fig.suptitle(f'Evolução Covid-19 em {cidade} ({estado})',\n",
    "                     fontsize=14, fontweight='bold')\n",
    "        ax.plot(df_cidade['order_for_place'], df_cidade['confirmed'],'b-', label=\"Casos Confirmados\")\n",
    "        ax.plot(df_cidade['order_for_place'], df_cidade['deaths'],'r-',label=\"Mortes\",)\n",
    "        ax.legend()\n",
    "        ax.set(xlabel='$dias$ $após$ $o$ $primeiro$ $caso$',\n",
    "                title=f'Casos confirmados:{tot_conf_cid} ** Mortes:{tot_mortes_cid} ** Casos por 100k/Hab.: {conf_per_100mil:.2f} ** Taxa de Mortalidade:{tx_morte:.2f}%')\n",
    "        plt.grid(axis='y')\n",
    "        fig.savefig('evol_c19_cid.png')\n",
    "        plt.show()\n",
    "            \n",
    "       \n",
    "    # Deletar listas e perguntas do output do programa.\n",
    "    clear_output()\n",
    "    \n",
    "    grafico()\n",
    "    \n",
    "if __name__ == '__main__': main()\n"
   ]
  },
  {
   "cell_type": "code",
   "execution_count": 12,
   "metadata": {},
   "outputs": [
    {
     "name": "stdout",
     "output_type": "stream",
     "text": [
      "Arquivo criado com sucesso!\n",
      "Tempo de processamento: 2.30s\n"
     ]
    }
   ],
   "source": [
    "t1 = time.time()\n",
    "\n",
    "stdoutOrigin=sys.stdout \n",
    "sys.stdout = open(\"log_estado.txt\", \"w\")\n",
    "\n",
    "print('Dados Covid-19 por Estado:\\n ')\n",
    "\n",
    "for x in df.state.unique().astype(str):\n",
    "    a = df[(df[\"state\"] == x) & df['is_last'] == True].iloc[0].values[4]\n",
    "    b = df[(df[\"state\"] == x) & df['is_last'] == True].iloc[0].values[5]\n",
    "    c = df[(df[\"state\"] == x) & df['is_last'] == True].iloc[0].values[10]\n",
    "    d = df[(df[\"state\"] == x) & df['is_last'] == True].iloc[0].values[11] * 100\n",
    "    print(f'''********* {x} **********\n",
    "Casos Confirmados: {a:,}\n",
    "Mortes: {b:,}\n",
    "Casos por 100k/Hab.: {c:,.2f}\n",
    "Taxa de Mortalidade: {d:.2f}%\n",
    "''')\n",
    "\n",
    "sys.stdout.close()\n",
    "sys.stdout=stdoutOrigin\n",
    "\n",
    "print('Arquivo criado com sucesso!')\n",
    "t2 = time.time()\n",
    "print(f'Tempo de processamento: {t2-t1:.2f}s')"
   ]
  },
  {
   "cell_type": "code",
   "execution_count": 13,
   "metadata": {},
   "outputs": [
    {
     "name": "stdout",
     "output_type": "stream",
     "text": [
      "Arquivo criado com sucesso!\n",
      "Tempo de processamento: 9.43s\n"
     ]
    }
   ],
   "source": [
    "t1 = time.time()\n",
    "\n",
    "stdoutOrigin=sys.stdout \n",
    "sys.stdout = open(\"log_cidade.txt\", \"w\")\n",
    "\n",
    "print('Dados Covid-19 por cidade:\\n')\n",
    "print(r'{casos | mortes | por 100k/Hab | tx morte (%)}')\n",
    "print()\n",
    "\n",
    "# Eliminar todas as linhas da coluna da cidade cujo valor seja Nan ou nulo.\n",
    "df1 = df[(df['state'] == 'MG')].dropna(subset = ['city'])\n",
    "\n",
    "#Loop de exibição dos valores e dados de cada cidade: \n",
    "for y in df1.city.unique():\n",
    "    e = df1[(df1[\"city\"] == y) & df1['is_last'] == True].iloc[0].values[4]\n",
    "    f = df1[(df1[\"city\"] == y) & df1['is_last'] == True].iloc[0].values[5]\n",
    "    g = df1[(df1[\"city\"] == y) & df1['is_last'] == True].iloc[0].values[10]\n",
    "    h = df1[(df1[\"city\"] == y) & df1['is_last'] == True].iloc[0].values[11] * 100\n",
    "    print(f'{y}: {e:,} | {f:,} | {g:,.2f} | {h:.2f}%')\n",
    "\n",
    "sys.stdout.close()\n",
    "sys.stdout=stdoutOrigin\n",
    "\n",
    "print('Arquivo criado com sucesso!')\n",
    "t2 = time.time()\n",
    "print(f'Tempo de processamento: {t2-t1:.2f}s')"
   ]
  },
  {
   "cell_type": "code",
   "execution_count": 14,
   "metadata": {},
   "outputs": [],
   "source": [
    "\n",
    "def main():\n",
    "      \n",
    "    def downl_data():\n",
    "        download_url = \"https://opendata.ecdc.europa.eu/covid19/casedistribution/csv\"\n",
    "        target_csv_path = \"covid19_worldwise_cases.csv\"\n",
    "\n",
    "        response = requests.get(download_url)\n",
    "        response.raise_for_status()    # Confere se a requisição foi realizado com sucesso.\n",
    "        \n",
    "        with open(target_csv_path, \"wb\") as f:\n",
    "            f.write(response.content)\n",
    "\n",
    "       \n",
    "    df_c = pd.read_csv('covid19_worldwise_cases.csv')\n",
    "    \n",
    "    def log_cont():\n",
    "        \n",
    "        stdoutOrigin=sys.stdout \n",
    "        sys.stdout = open(\"log_continente.txt\", \"w\")\n",
    "\n",
    "        print('Dados Covid-19 por continente:\\n')\n",
    "        print(r'{casos confirmados(%) | mortes(%)}')\n",
    "        print()\n",
    "        \n",
    "        a = df_c['cases'].sum()\n",
    "        b = df_c['deaths'].sum()\n",
    "        \n",
    "        print(f'World: {a:,} | {b:,}\\n')\n",
    "        \n",
    "        \n",
    "        for cont in df_c.continentExp.unique():\n",
    "            c = df_c['cases'][df_c['continentExp'] == cont].sum()\n",
    "            d = df_c['deaths'][df_c['continentExp'] == cont].sum()\n",
    "            e = c / df_c['cases'].sum() * 100\n",
    "            f = d / df_c['deaths'].sum() * 100    \n",
    "            print(f'{cont}: {c:,} ({e:.2f}%) | {d:,} ({f:.2f}%)')\n",
    "\n",
    "        sys.stdout.close()\n",
    "        sys.stdout=stdoutOrigin\n",
    "        \n",
    "    def log_paises():\n",
    "        \n",
    "        stdoutOrigin=sys.stdout \n",
    "        sys.stdout = open(\"log_paises.txt\", \"w\")\n",
    "\n",
    "        print('Dados Covid-19 por país:\\n')\n",
    "        print(r'{casos confirmados | mortes (% letalidade)}')\n",
    "        print()\n",
    "        \n",
    "        for country in df_c.countriesAndTerritories.unique():\n",
    "            g = df_c['cases'][df_c['countriesAndTerritories'] == country].sum()\n",
    "            h = df_c['deaths'][df_c['countriesAndTerritories'] == country].sum()\n",
    "            w = (h / g) * 100\n",
    "            print(f'{country}: {g:,} | {h:,} ({w:.2f}%)')\n",
    "\n",
    "        sys.stdout.close()\n",
    "        sys.stdout=stdoutOrigin\n",
    "        \n",
    "    downl_data()\n",
    "    log_cont()\n",
    "    log_paises()\n",
    "    \n",
    "main()\n"
   ]
  },
  {
   "cell_type": "code",
   "execution_count": 15,
   "metadata": {},
   "outputs": [],
   "source": [
    "download_url = \"https://opendata.ecdc.europa.eu/covid19/casedistribution/csv\"\n",
    "target_csv_path = \"covid19_worldwise_cases.csv\"\n",
    "\n",
    "response = requests.get(download_url)\n",
    "response.raise_for_status()    # Confere se a requisição foi realizado com sucesso.\n",
    "        \n",
    "with open(target_csv_path, \"wb\") as f:\n",
    "    f.write(response.content)\n",
    "\n",
    "       \n",
    "df_country = pd.read_csv('covid19_worldwise_cases.csv')"
   ]
  }
 ],
 "metadata": {
  "kernelspec": {
   "display_name": "Python 3",
   "language": "python",
   "name": "python3"
  },
  "language_info": {
   "codemirror_mode": {
    "name": "ipython",
    "version": 3
   },
   "file_extension": ".py",
   "mimetype": "text/x-python",
   "name": "python",
   "nbconvert_exporter": "python",
   "pygments_lexer": "ipython3",
   "version": "3.7.6-final"
  },
  "toc": {
   "base_numbering": 1,
   "nav_menu": {
    "height": "11.979px",
    "width": "159.997px"
   },
   "number_sections": false,
   "sideBar": true,
   "skip_h1_title": true,
   "title_cell": "Table of Contents",
   "title_sidebar": "Sumário",
   "toc_cell": true,
   "toc_position": {
    "height": "403.385px",
    "left": "846px",
    "top": "160.192px",
    "width": "257.916px"
   },
   "toc_section_display": true,
   "toc_window_display": true
  },
  "varInspector": {
   "cols": {
    "lenName": 16,
    "lenType": 16,
    "lenVar": 40
   },
   "kernels_config": {
    "python": {
     "delete_cmd_postfix": "",
     "delete_cmd_prefix": "del ",
     "library": "var_list.py",
     "varRefreshCmd": "print(var_dic_list())"
    },
    "r": {
     "delete_cmd_postfix": ") ",
     "delete_cmd_prefix": "rm(",
     "library": "var_list.r",
     "varRefreshCmd": "cat(var_dic_list()) "
    }
   },
   "types_to_exclude": [
    "module",
    "function",
    "builtin_function_or_method",
    "instance",
    "_Feature"
   ],
   "window_display": false
  }
 },
 "nbformat": 4,
 "nbformat_minor": 4
}